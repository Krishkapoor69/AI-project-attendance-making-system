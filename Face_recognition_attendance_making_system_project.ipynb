{
  "cells": [
    {
      "cell_type": "markdown",
      "metadata": {
        "id": "view-in-github",
        "colab_type": "text"
      },
      "source": [
        "<a href=\"https://colab.research.google.com/github/Krishkapoor69/AI-project-attendance-making-system/blob/main/Face_recognition_attendance_making_system_project.ipynb\" target=\"_parent\"><img src=\"https://colab.research.google.com/assets/colab-badge.svg\" alt=\"Open In Colab\"/></a>"
      ]
    },
    {
      "cell_type": "code",
      "execution_count": 1,
      "metadata": {
        "id": "9ZtvZLfXCPjr",
        "colab": {
          "base_uri": "https://localhost:8080/"
        },
        "outputId": "39a46281-3b1b-449f-d753-4658e0b0aa46"
      },
      "outputs": [
        {
          "output_type": "stream",
          "name": "stdout",
          "text": [
            "Cloning into 'face_recognition'...\n",
            "remote: Enumerating objects: 26, done.\u001b[K\n",
            "remote: Counting objects: 100% (26/26), done.\u001b[K\n",
            "remote: Compressing objects: 100% (24/24), done.\u001b[K\n",
            "remote: Total 26 (delta 5), reused 0 (delta 0), pack-reused 0\u001b[K\n",
            "Unpacking objects: 100% (26/26), done.\n",
            "[Errno 2] No such file or directory: 'face_recognition|'\n",
            "/content\n"
          ]
        }
      ],
      "source": [
        "!git clone https://github.com/misbah4064/face_recognition.git\n",
        "%cd face_recognition|"
      ]
    },
    {
      "cell_type": "code",
      "source": [
        "from google.colab import drive\n",
        "drive.mount('/content/drive')"
      ],
      "metadata": {
        "id": "SvPBf5wKrjBM",
        "colab": {
          "base_uri": "https://localhost:8080/"
        },
        "outputId": "03f83ad2-5c7f-4616-aa11-a8c36c9f0e3c"
      },
      "execution_count": 2,
      "outputs": [
        {
          "output_type": "stream",
          "name": "stdout",
          "text": [
            "Mounted at /content/drive\n"
          ]
        }
      ]
    },
    {
      "cell_type": "code",
      "execution_count": 3,
      "metadata": {
        "colab": {
          "base_uri": "https://localhost:8080/"
        },
        "id": "bSkhnIKtCbD-",
        "outputId": "b2b63965-7b23-4e34-9ed4-8ae5f219c1cd"
      },
      "outputs": [
        {
          "output_type": "stream",
          "name": "stdout",
          "text": [
            "Collecting face_recognition\n",
            "  Downloading face_recognition-1.3.0-py2.py3-none-any.whl (15 kB)\n",
            "Requirement already satisfied: dlib>=19.7 in /usr/local/lib/python3.7/dist-packages (from face_recognition) (19.18.0)\n",
            "Requirement already satisfied: Pillow in /usr/local/lib/python3.7/dist-packages (from face_recognition) (7.1.2)\n",
            "Collecting face-recognition-models>=0.3.0\n",
            "  Downloading face_recognition_models-0.3.0.tar.gz (100.1 MB)\n",
            "\u001b[K     |████████████████████████████████| 100.1 MB 26 kB/s \n",
            "\u001b[?25hRequirement already satisfied: Click>=6.0 in /usr/local/lib/python3.7/dist-packages (from face_recognition) (7.1.2)\n",
            "Requirement already satisfied: numpy in /usr/local/lib/python3.7/dist-packages (from face_recognition) (1.19.5)\n",
            "Building wheels for collected packages: face-recognition-models\n",
            "  Building wheel for face-recognition-models (setup.py) ... \u001b[?25l\u001b[?25hdone\n",
            "  Created wheel for face-recognition-models: filename=face_recognition_models-0.3.0-py2.py3-none-any.whl size=100566185 sha256=e7f98ef21418975c08fa83feb293a7180ff17a29029314f1ed8d6ccad13026a3\n",
            "  Stored in directory: /root/.cache/pip/wheels/d6/81/3c/884bcd5e1c120ff548d57c2ecc9ebf3281c9a6f7c0e7e7947a\n",
            "Successfully built face-recognition-models\n",
            "Installing collected packages: face-recognition-models, face-recognition\n",
            "Successfully installed face-recognition-1.3.0 face-recognition-models-0.3.0\n"
          ]
        }
      ],
      "source": [
        "!pip install face_recognition"
      ]
    },
    {
      "cell_type": "code",
      "source": [
        "!pip install flask-ngrok"
      ],
      "metadata": {
        "colab": {
          "base_uri": "https://localhost:8080/"
        },
        "id": "NDzQ3glng2Kg",
        "outputId": "3fbed110-1127-4e13-fe2f-fbeac814a16a"
      },
      "execution_count": 4,
      "outputs": [
        {
          "output_type": "stream",
          "name": "stdout",
          "text": [
            "Collecting flask-ngrok\n",
            "  Downloading flask_ngrok-0.0.25-py3-none-any.whl (3.1 kB)\n",
            "Requirement already satisfied: requests in /usr/local/lib/python3.7/dist-packages (from flask-ngrok) (2.23.0)\n",
            "Requirement already satisfied: Flask>=0.8 in /usr/local/lib/python3.7/dist-packages (from flask-ngrok) (1.1.4)\n",
            "Requirement already satisfied: click<8.0,>=5.1 in /usr/local/lib/python3.7/dist-packages (from Flask>=0.8->flask-ngrok) (7.1.2)\n",
            "Requirement already satisfied: Werkzeug<2.0,>=0.15 in /usr/local/lib/python3.7/dist-packages (from Flask>=0.8->flask-ngrok) (1.0.1)\n",
            "Requirement already satisfied: Jinja2<3.0,>=2.10.1 in /usr/local/lib/python3.7/dist-packages (from Flask>=0.8->flask-ngrok) (2.11.3)\n",
            "Requirement already satisfied: itsdangerous<2.0,>=0.24 in /usr/local/lib/python3.7/dist-packages (from Flask>=0.8->flask-ngrok) (1.1.0)\n",
            "Requirement already satisfied: MarkupSafe>=0.23 in /usr/local/lib/python3.7/dist-packages (from Jinja2<3.0,>=2.10.1->Flask>=0.8->flask-ngrok) (2.0.1)\n",
            "Requirement already satisfied: urllib3!=1.25.0,!=1.25.1,<1.26,>=1.21.1 in /usr/local/lib/python3.7/dist-packages (from requests->flask-ngrok) (1.24.3)\n",
            "Requirement already satisfied: chardet<4,>=3.0.2 in /usr/local/lib/python3.7/dist-packages (from requests->flask-ngrok) (3.0.4)\n",
            "Requirement already satisfied: certifi>=2017.4.17 in /usr/local/lib/python3.7/dist-packages (from requests->flask-ngrok) (2021.10.8)\n",
            "Requirement already satisfied: idna<3,>=2.5 in /usr/local/lib/python3.7/dist-packages (from requests->flask-ngrok) (2.10)\n",
            "Installing collected packages: flask-ngrok\n",
            "Successfully installed flask-ngrok-0.0.25\n"
          ]
        }
      ]
    },
    {
      "cell_type": "code",
      "source": [
        "!pip install pyngrok"
      ],
      "metadata": {
        "colab": {
          "base_uri": "https://localhost:8080/"
        },
        "id": "Ra1j0IF4hDVt",
        "outputId": "70004414-a689-4104-dead-ea1e6e967e4d"
      },
      "execution_count": 5,
      "outputs": [
        {
          "output_type": "stream",
          "name": "stdout",
          "text": [
            "Collecting pyngrok\n",
            "  Downloading pyngrok-5.1.0.tar.gz (745 kB)\n",
            "\u001b[?25l\r\u001b[K     |▍                               | 10 kB 20.2 MB/s eta 0:00:01\r\u001b[K     |▉                               | 20 kB 26.7 MB/s eta 0:00:01\r\u001b[K     |█▎                              | 30 kB 14.4 MB/s eta 0:00:01\r\u001b[K     |█▊                              | 40 kB 10.8 MB/s eta 0:00:01\r\u001b[K     |██▏                             | 51 kB 4.6 MB/s eta 0:00:01\r\u001b[K     |██▋                             | 61 kB 5.0 MB/s eta 0:00:01\r\u001b[K     |███                             | 71 kB 4.6 MB/s eta 0:00:01\r\u001b[K     |███▌                            | 81 kB 5.1 MB/s eta 0:00:01\r\u001b[K     |████                            | 92 kB 5.2 MB/s eta 0:00:01\r\u001b[K     |████▍                           | 102 kB 4.3 MB/s eta 0:00:01\r\u001b[K     |████▉                           | 112 kB 4.3 MB/s eta 0:00:01\r\u001b[K     |█████▎                          | 122 kB 4.3 MB/s eta 0:00:01\r\u001b[K     |█████▊                          | 133 kB 4.3 MB/s eta 0:00:01\r\u001b[K     |██████▏                         | 143 kB 4.3 MB/s eta 0:00:01\r\u001b[K     |██████▋                         | 153 kB 4.3 MB/s eta 0:00:01\r\u001b[K     |███████                         | 163 kB 4.3 MB/s eta 0:00:01\r\u001b[K     |███████▌                        | 174 kB 4.3 MB/s eta 0:00:01\r\u001b[K     |████████                        | 184 kB 4.3 MB/s eta 0:00:01\r\u001b[K     |████████▍                       | 194 kB 4.3 MB/s eta 0:00:01\r\u001b[K     |████████▉                       | 204 kB 4.3 MB/s eta 0:00:01\r\u001b[K     |█████████▎                      | 215 kB 4.3 MB/s eta 0:00:01\r\u001b[K     |█████████▊                      | 225 kB 4.3 MB/s eta 0:00:01\r\u001b[K     |██████████▏                     | 235 kB 4.3 MB/s eta 0:00:01\r\u001b[K     |██████████▌                     | 245 kB 4.3 MB/s eta 0:00:01\r\u001b[K     |███████████                     | 256 kB 4.3 MB/s eta 0:00:01\r\u001b[K     |███████████▍                    | 266 kB 4.3 MB/s eta 0:00:01\r\u001b[K     |███████████▉                    | 276 kB 4.3 MB/s eta 0:00:01\r\u001b[K     |████████████▎                   | 286 kB 4.3 MB/s eta 0:00:01\r\u001b[K     |████████████▊                   | 296 kB 4.3 MB/s eta 0:00:01\r\u001b[K     |█████████████▏                  | 307 kB 4.3 MB/s eta 0:00:01\r\u001b[K     |█████████████▋                  | 317 kB 4.3 MB/s eta 0:00:01\r\u001b[K     |██████████████                  | 327 kB 4.3 MB/s eta 0:00:01\r\u001b[K     |██████████████▌                 | 337 kB 4.3 MB/s eta 0:00:01\r\u001b[K     |███████████████                 | 348 kB 4.3 MB/s eta 0:00:01\r\u001b[K     |███████████████▍                | 358 kB 4.3 MB/s eta 0:00:01\r\u001b[K     |███████████████▉                | 368 kB 4.3 MB/s eta 0:00:01\r\u001b[K     |████████████████▎               | 378 kB 4.3 MB/s eta 0:00:01\r\u001b[K     |████████████████▊               | 389 kB 4.3 MB/s eta 0:00:01\r\u001b[K     |█████████████████▏              | 399 kB 4.3 MB/s eta 0:00:01\r\u001b[K     |█████████████████▋              | 409 kB 4.3 MB/s eta 0:00:01\r\u001b[K     |██████████████████              | 419 kB 4.3 MB/s eta 0:00:01\r\u001b[K     |██████████████████▌             | 430 kB 4.3 MB/s eta 0:00:01\r\u001b[K     |███████████████████             | 440 kB 4.3 MB/s eta 0:00:01\r\u001b[K     |███████████████████▍            | 450 kB 4.3 MB/s eta 0:00:01\r\u001b[K     |███████████████████▉            | 460 kB 4.3 MB/s eta 0:00:01\r\u001b[K     |████████████████████▎           | 471 kB 4.3 MB/s eta 0:00:01\r\u001b[K     |████████████████████▋           | 481 kB 4.3 MB/s eta 0:00:01\r\u001b[K     |█████████████████████           | 491 kB 4.3 MB/s eta 0:00:01\r\u001b[K     |█████████████████████▌          | 501 kB 4.3 MB/s eta 0:00:01\r\u001b[K     |██████████████████████          | 512 kB 4.3 MB/s eta 0:00:01\r\u001b[K     |██████████████████████▍         | 522 kB 4.3 MB/s eta 0:00:01\r\u001b[K     |██████████████████████▉         | 532 kB 4.3 MB/s eta 0:00:01\r\u001b[K     |███████████████████████▎        | 542 kB 4.3 MB/s eta 0:00:01\r\u001b[K     |███████████████████████▊        | 552 kB 4.3 MB/s eta 0:00:01\r\u001b[K     |████████████████████████▏       | 563 kB 4.3 MB/s eta 0:00:01\r\u001b[K     |████████████████████████▋       | 573 kB 4.3 MB/s eta 0:00:01\r\u001b[K     |█████████████████████████       | 583 kB 4.3 MB/s eta 0:00:01\r\u001b[K     |█████████████████████████▌      | 593 kB 4.3 MB/s eta 0:00:01\r\u001b[K     |██████████████████████████      | 604 kB 4.3 MB/s eta 0:00:01\r\u001b[K     |██████████████████████████▍     | 614 kB 4.3 MB/s eta 0:00:01\r\u001b[K     |██████████████████████████▉     | 624 kB 4.3 MB/s eta 0:00:01\r\u001b[K     |███████████████████████████▎    | 634 kB 4.3 MB/s eta 0:00:01\r\u001b[K     |███████████████████████████▊    | 645 kB 4.3 MB/s eta 0:00:01\r\u001b[K     |████████████████████████████▏   | 655 kB 4.3 MB/s eta 0:00:01\r\u001b[K     |████████████████████████████▋   | 665 kB 4.3 MB/s eta 0:00:01\r\u001b[K     |█████████████████████████████   | 675 kB 4.3 MB/s eta 0:00:01\r\u001b[K     |█████████████████████████████▌  | 686 kB 4.3 MB/s eta 0:00:01\r\u001b[K     |██████████████████████████████  | 696 kB 4.3 MB/s eta 0:00:01\r\u001b[K     |██████████████████████████████▍ | 706 kB 4.3 MB/s eta 0:00:01\r\u001b[K     |██████████████████████████████▊ | 716 kB 4.3 MB/s eta 0:00:01\r\u001b[K     |███████████████████████████████▏| 727 kB 4.3 MB/s eta 0:00:01\r\u001b[K     |███████████████████████████████▋| 737 kB 4.3 MB/s eta 0:00:01\r\u001b[K     |████████████████████████████████| 745 kB 4.3 MB/s \n",
            "\u001b[?25hRequirement already satisfied: PyYAML in /usr/local/lib/python3.7/dist-packages (from pyngrok) (3.13)\n",
            "Building wheels for collected packages: pyngrok\n",
            "  Building wheel for pyngrok (setup.py) ... \u001b[?25l\u001b[?25hdone\n",
            "  Created wheel for pyngrok: filename=pyngrok-5.1.0-py3-none-any.whl size=19006 sha256=9a68810d7d0918ffbc76d1e8207a6129c83bed03aaaff9804dc9ca8a06d3fc87\n",
            "  Stored in directory: /root/.cache/pip/wheels/bf/e6/af/ccf6598ecefecd44104069371795cb9b3afbcd16987f6ccfb3\n",
            "Successfully built pyngrok\n",
            "Installing collected packages: pyngrok\n",
            "Successfully installed pyngrok-5.1.0\n"
          ]
        }
      ]
    },
    {
      "cell_type": "code",
      "source": [
        "!ngrok authtoken 22EdMoezADbJ6seKkXxDS1soqS4_2E4b9yAAAEDKrmoGSMLHL"
      ],
      "metadata": {
        "id": "mr9WrRzWhGn4",
        "colab": {
          "base_uri": "https://localhost:8080/"
        },
        "outputId": "e5b6ebb0-2cf2-46f2-93d3-5018cd8cd2b3"
      },
      "execution_count": 6,
      "outputs": [
        {
          "output_type": "stream",
          "name": "stdout",
          "text": [
            "Authtoken saved to configuration file: /root/.ngrok2/ngrok.yml\n"
          ]
        }
      ]
    },
    {
      "cell_type": "code",
      "execution_count": 7,
      "metadata": {
        "colab": {
          "base_uri": "https://localhost:8080/"
        },
        "id": "Gv09ZHRhCk7J",
        "outputId": "c63fc331-ec0e-4d49-e4b6-28ee618a7218"
      },
      "outputs": [
        {
          "output_type": "stream",
          "name": "stdout",
          "text": [
            "Done learning and creating profiles\n"
          ]
        }
      ],
      "source": [
        "import face_recognition\n",
        "import numpy as np\n",
        "from PIL import Image, ImageDraw\n",
        "from IPython.display import display\n",
        "from google.colab.patches import cv2_imshow\n",
        "import cv2\n",
        "from datetime import datetime\n",
        "\n",
        "face_1 = face_recognition.load_image_file(\"elon.jpg\")\n",
        "face_1_encoding = face_recognition.face_encodings(face_1)[0]\n",
        "\n",
        "face_2 = face_recognition.load_image_file(\"Donald Trump.jpg\")\n",
        "face_2_encoding = face_recognition.face_encodings(face_2)[0]\n",
        "\n",
        "#face_3 = face_recognition.load_image_file(\"/content/face_recognition/jeffbezos.jpg\")\n",
        "#face_3_encoding = face_recognition.face_encodings(face_3)[0]\n",
        "\n",
        "known_face_encodings = [\n",
        "    face_1_encoding,\n",
        "    face_2_encoding\n",
        "  #  face_3_encoding\n",
        "]\n",
        "known_face_names = [\n",
        "    \"Elon Musk\",\n",
        "    \"Donald Trump\"\n",
        "   # \"Jeff Bezos\"\n",
        "]\n",
        "print(\"Done learning and creating profiles\")"
      ]
    },
    {
      "cell_type": "code",
      "execution_count": 8,
      "metadata": {
        "id": "h-WzVcdpEt6P"
      },
      "outputs": [],
      "source": [
        "def makeAttendanceEntry(name):\n",
        "    with open('attendance_list.csv','r+') as FILE:\n",
        "        allLines = FILE.readlines()\n",
        "        attendanceList = []\n",
        "        for line in allLines:\n",
        "            entry = line.split(',')\n",
        "            attendanceList.append(entry[0])\n",
        "        if name not in attendanceList:\n",
        "            now = datetime.now()\n",
        "            dString = now.strftime('%d/%b/%Y')\n",
        "            tString = now.strftime('%H:%M:%S')\n",
        "            FILE.writelines(f'{name},{dString},{tString}')"
      ]
    },
    {
      "cell_type": "code",
      "source": [
        "import numpy as np\n",
        "from flask_ngrok import run_with_ngrok\n",
        "import cv2\n",
        "\n",
        "from flask import Flask, render_template, request\n",
        "from flask_ngrok import run_with_ngrok\n",
        "\n",
        "app = Flask(__name__)\n",
        "run_with_ngrok(app)   \n",
        "\n",
        "def predict_label(img_path):\n",
        "  unknown_image = cv2.imread(img_path) \n",
        "  #cv2_imshow(unknown_image)\n",
        "  unknown_image_to_draw = cv2.imread(img_path)\n",
        "  face_locations = face_recognition.face_locations(unknown_image)\n",
        "  face_encodings = face_recognition.face_encodings(unknown_image, face_locations)\n",
        "  for (top, right, bottom, left), face_encoding in zip(face_locations, face_encodings):\n",
        "    matches = face_recognition.compare_faces(known_face_encodings, face_encoding)\n",
        "    name = \"Unknown\"\n",
        "    face_distances = face_recognition.face_distance(known_face_encodings, face_encoding)\n",
        "    best_match_index = np.argmin(face_distances)\n",
        "    if matches[best_match_index]:\n",
        "        name = known_face_names[best_match_index]\n",
        "        p=name\n",
        "        makeAttendanceEntry(p)\n",
        "    else:\n",
        "      return 'Not found'\n",
        "  return p\n",
        "\n",
        "@app.route(\"/\", methods=['GET', 'POST'])\n",
        "def main():\n",
        "  #return 'Hello'\n",
        "\treturn render_template(\"index.html\")\n",
        "\n",
        "\n",
        "@app.route(\"/submit\", methods = ['GET', 'POST'])\n",
        "def get_output():\n",
        "  if request.method == 'POST':\n",
        "    img = request.files['my_image']\n",
        "    img_path = \"/content/static/\" + img.filename\t\n",
        "    img.save(img_path)\n",
        "    print(img_path)\n",
        "    p = predict_label(img_path)\n",
        "    return render_template(\"index.html\", prediction = p)\n",
        "\n",
        "app.run()\n"
      ],
      "metadata": {
        "id": "BBdX9VYyghW6",
        "colab": {
          "base_uri": "https://localhost:8080/"
        },
        "outputId": "3c8edaa6-e1dc-41a5-e9c4-0cfc227ac45a"
      },
      "execution_count": 9,
      "outputs": [
        {
          "output_type": "stream",
          "name": "stdout",
          "text": [
            " * Serving Flask app \"__main__\" (lazy loading)\n",
            " * Environment: production\n",
            "\u001b[31m   WARNING: This is a development server. Do not use it in a production deployment.\u001b[0m\n",
            "\u001b[2m   Use a production WSGI server instead.\u001b[0m\n",
            " * Debug mode: off\n"
          ]
        },
        {
          "output_type": "stream",
          "name": "stderr",
          "text": [
            " * Running on http://127.0.0.1:5000/ (Press CTRL+C to quit)\n"
          ]
        },
        {
          "output_type": "stream",
          "name": "stdout",
          "text": [
            " * Running on http://382d-34-80-170-94.ngrok.io\n",
            " * Traffic stats available on http://127.0.0.1:4040\n"
          ]
        },
        {
          "output_type": "stream",
          "name": "stderr",
          "text": [
            "127.0.0.1 - - [22/Dec/2021 02:59:23] \"\u001b[37mGET / HTTP/1.1\u001b[0m\" 200 -\n",
            "127.0.0.1 - - [22/Dec/2021 02:59:24] \"\u001b[33mGET /favicon.ico HTTP/1.1\u001b[0m\" 404 -\n"
          ]
        },
        {
          "output_type": "stream",
          "name": "stdout",
          "text": [
            "/content/static/Donald Trump (2).jpg\n"
          ]
        },
        {
          "output_type": "stream",
          "name": "stderr",
          "text": [
            "127.0.0.1 - - [22/Dec/2021 02:59:38] \"\u001b[37mPOST /submit HTTP/1.1\u001b[0m\" 200 -\n"
          ]
        }
      ]
    }
  ],
  "metadata": {
    "accelerator": "GPU",
    "colab": {
      "collapsed_sections": [],
      "name": "Face recognition attendance making system project",
      "provenance": [],
      "include_colab_link": true
    },
    "kernelspec": {
      "display_name": "Python 3",
      "name": "python3"
    },
    "language_info": {
      "name": "python"
    }
  },
  "nbformat": 4,
  "nbformat_minor": 0
}